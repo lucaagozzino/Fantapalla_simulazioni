{
 "cells": [
  {
   "cell_type": "code",
   "execution_count": 1,
   "metadata": {},
   "outputs": [],
   "source": [
    "team_dict = {\n",
    "    '_id':0,\n",
    "    'team_name':'',\n",
    "    'type':'',\n",
    "    'manager_ID':0\n",
    "}\n",
    "player_dict = {\n",
    "    '_id':0,\n",
    "    'name':'',\n",
    "    'personal_info':{\n",
    "        'full_name':'',\n",
    "        'birthdate':'',\n",
    "        'nation': [],\n",
    "        'team_real':'',\n",
    "        'FC_role':''\n",
    "    },\n",
    "    'stats':{'Pg': 0,\n",
    "    'Mv': 0,\n",
    "    'Mf': 0,\n",
    "    'Gf': 0,\n",
    "    'Gs': 0,\n",
    "    'Rp': 0,\n",
    "    'Rc': 0,\n",
    "    'R+': 0,\n",
    "    'R-': 0,\n",
    "    'Ass': 0,\n",
    "    'Asf': 0,\n",
    "    'Amm': 0,\n",
    "    'Esp': 0,\n",
    "    'Au': 0,\n",
    "    'Qt_A': 0,\n",
    "    'Qt_I': 0}\n",
    "}\n",
    "transfer_dict={\n",
    "    '_id':0,\n",
    "    'date':0,\n",
    "    'operation':'',\n",
    "    'quotation_to_date':'',\n",
    "    'cost':0,\n",
    "    'player_ID':0,\n",
    "    'team_ID_from':0,\n",
    "    'team_ID_to':0\n",
    "}\n",
    "trophy_dict={\n",
    "    '_id':0,\n",
    "    'name':'',\n",
    "    'season':[2020,2021],\n",
    "    'prize':0,\n",
    "    'manager_ID':0,\n",
    "    'ranking':0\n",
    "}\n",
    "manager_dict={\n",
    "    '_id':0,\n",
    "    'name':'',\n",
    "    'budget':0\n",
    "}\n",
    "fine_dict={\n",
    "    '_id':0,\n",
    "    'amount':0,\n",
    "    'date':0,\n",
    "    'season':[2020,2021],\n",
    "    'reason':'',\n",
    "    'manager_ID':0\n",
    "}\n",
    "loan_dict={\n",
    "    '_id':0,\n",
    "    'start_date':0,\n",
    "    'expire_date':0,\n",
    "    'redemption_right':'',\n",
    "    'redemption_cost':0,\n",
    "    'transfer_ID':0\n",
    "}"
   ]
  },
  {
   "cell_type": "code",
   "execution_count": 9,
   "metadata": {},
   "outputs": [],
   "source": [
    "from pymongo import MongoClient\n",
    "import pymongo\n",
    "import json\n",
    "import copy\n",
    "from datetime import datetime\n",
    "with open('credential.json','r') as f:\n",
    "    cred = json.load(f)\n",
    "cluster = MongoClient(cred['cred'])\n",
    "db_1 = cluster['Game']\n",
    "db_2 = cluster['Game_2']\n",
    "coll_pl_old = db_1['Players']\n",
    "coll_pl_new = db_2['Players']\n",
    "coll_man_old = db_1['Managers']\n",
    "coll_man_new = db_2['Managers']\n",
    "coll_fine = db_2['Fines']\n",
    "coll_tr = db_2['Trophies']\n",
    "coll_teams = db_2['Teams']\n",
    "coll_trans_old = db_1['Transfers']\n",
    "coll_trans_new = db_2['Transfers']"
   ]
  },
  {
   "cell_type": "code",
   "execution_count": null,
   "metadata": {},
   "outputs": [],
   "source": []
  },
  {
   "cell_type": "code",
   "execution_count": 3,
   "metadata": {},
   "outputs": [],
   "source": [
    "test = coll_man_old.find_one({'owner':'mario'})"
   ]
  },
  {
   "cell_type": "code",
   "execution_count": 4,
   "metadata": {},
   "outputs": [],
   "source": [
    "def transform_player_dict(old_pl_dict, empty_dict=manager_dict):\n",
    "    player = copy.deepcopy(empty_dict)\n",
    "    old_dict = copy.deepcopy(old_pl_dict)\n",
    "    \n",
    "    \n",
    "    player['_id'] = old_dict['_id']\n",
    "    player['name'] = old_dict['name']\n",
    "    player['personal_info'] = old_dict['info']['personal_info']\n",
    "    player['personal_info']['birthdate'] = player['personal_info'].pop('birthdate_num')\n",
    "    player['personal_info']['nation'] = player['personal_info']['nation'].split(', ')\n",
    "    player['stats'] = old_dict['info']['stats']\n",
    "    \n",
    "    return player"
   ]
  },
  {
   "cell_type": "code",
   "execution_count": 5,
   "metadata": {},
   "outputs": [],
   "source": [
    "def transform_manager_dict(old_man_dict, empty_dict=manager_dict):\n",
    "    manager = copy.deepcopy(empty_dict)\n",
    "    old_dict = copy.deepcopy(old_man_dict)\n",
    "    \n",
    "    \n",
    "    manager['_id'] = old_dict['_id']\n",
    "    manager['name'] = old_dict['owner']\n",
    "    manager['budget'] = old_dict['budget']\n",
    "    \n",
    "    return manager"
   ]
  },
  {
   "cell_type": "code",
   "execution_count": 6,
   "metadata": {},
   "outputs": [],
   "source": [
    "def create_trophy_dict(old_man_dict, empty_dict=trophy_dict):\n",
    "    old_dict = copy.deepcopy(old_man_dict)\n",
    "    \n",
    "    prizes = []\n",
    "    \n",
    "    \n",
    "    if len(old_dict['palmares']):\n",
    "        \n",
    "        temp0=old_dict['palmares']\n",
    "        \n",
    "        for prize in old_dict['palmares']:\n",
    "            trophy = copy.deepcopy(empty_dict)\n",
    "            \n",
    "            trophy['_id'] = int(datetime.now().strftime('%Y%m%d%H%M%S'))+random.randint(0,1000)\n",
    "            trophy['name'] = prize['Type']\n",
    "            trophy['prize'] = prize['Prize_eur']\n",
    "            trophy['season'] = [2000+int(i) for i in prize['Season'].split('/')]\n",
    "            trophy['ranking'] = prize['Ranking']\n",
    "            trophy['manager_ID'] = old_dict['_id']\n",
    "            \n",
    "            \n",
    "            \n",
    "            prizes = prizes +[trophy]\n",
    "            \n",
    "    \n",
    "    \n",
    "    return prizes"
   ]
  },
  {
   "cell_type": "code",
   "execution_count": 7,
   "metadata": {},
   "outputs": [],
   "source": [
    "def create_fine_dict(old_man_dict, empty_dict=fine_dict):\n",
    "    old_dict = copy.deepcopy(old_man_dict)\n",
    "    \n",
    "    fines = []\n",
    "    \n",
    "    if len(old_dict['fines']):\n",
    "        for temp in old_dict['fines']:\n",
    "            fine = copy.deepcopy(empty_dict)\n",
    "            fine['_id'] = int(datetime.now().strftime('%Y%m%d%H%M%S'))+random.randint(0,1000)\n",
    "            fine['reason'] = temp['Reason']\n",
    "            fine['amount'] = temp['Fine_eur']\n",
    "            fine['date'] = int(temp['date'].replace('/',''))\n",
    "            fine['manager_ID'] = old_dict['_id']\n",
    "            \n",
    "            \n",
    "            fines.append(fine)\n",
    "    \n",
    "    \n",
    "    return fines"
   ]
  },
  {
   "cell_type": "code",
   "execution_count": 8,
   "metadata": {},
   "outputs": [],
   "source": [
    "def create_team_dict(old_man_dict, idx, team_type, empty_dict=team_dict):\n",
    "    team = copy.deepcopy(empty_dict)\n",
    "    team['_id'] = idx\n",
    "    team['type'] = team_type\n",
    "    team['team_name'] = old_man_dict['team_name']\n",
    "    team['manager_ID'] = old_man_dict['_id']\n",
    "    return team"
   ]
  },
  {
   "cell_type": "code",
   "execution_count": 12,
   "metadata": {},
   "outputs": [
    {
     "data": {
      "text/plain": [
       "{'_id': '20210101144439',\n",
       " 'name': 'BRUNO ALVES',\n",
       " 'operation': 'Svincolo',\n",
       " 'squad': None,\n",
       " 'date': '2021/01/01',\n",
       " 'quotation_to_date': 5,\n",
       " 'cost': 1,\n",
       " 'previous_squad': 'main',\n",
       " 'previous_owner': 'luca',\n",
       " 'new_owner': None,\n",
       " 'date_num': 20210101}"
      ]
     },
     "execution_count": 12,
     "metadata": {},
     "output_type": "execute_result"
    }
   ],
   "source": [
    "test = coll_trans_old.find_one()\n",
    "test"
   ]
  },
  {
   "cell_type": "code",
   "execution_count": null,
   "metadata": {},
   "outputs": [],
   "source": [
    "temp = {\n",
    "    '_id' : test['id'],\n",
    "    'date' : test['date_num'],\n",
    "    'operation' : test['operation'],\n",
    "    'quotation_to_date' : test['operation_to_date'],\n",
    "    'cost': test['cost'],\n",
    "    'player_ID': coll_pl_new.find_one({'name':test['name']})['_id'],\n",
    "    'team_ID_from': coll_mantest['previous_owner'],\n",
    "    'team_ID_to':0\n",
    "}"
   ]
  },
  {
   "cell_type": "code",
   "execution_count": 15,
   "metadata": {},
   "outputs": [
    {
     "data": {
      "text/plain": [
       "1864"
      ]
     },
     "execution_count": 15,
     "metadata": {},
     "output_type": "execute_result"
    }
   ],
   "source": []
  },
  {
   "cell_type": "code",
   "execution_count": null,
   "metadata": {},
   "outputs": [],
   "source": []
  }
 ],
 "metadata": {
  "kernelspec": {
   "display_name": "Python 3",
   "language": "python",
   "name": "python3"
  },
  "language_info": {
   "codemirror_mode": {
    "name": "ipython",
    "version": 3
   },
   "file_extension": ".py",
   "mimetype": "text/x-python",
   "name": "python",
   "nbconvert_exporter": "python",
   "pygments_lexer": "ipython3",
   "version": "3.7.1"
  }
 },
 "nbformat": 4,
 "nbformat_minor": 2
}
