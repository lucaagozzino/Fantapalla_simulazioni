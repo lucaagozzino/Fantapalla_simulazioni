{
 "cells": [
  {
   "cell_type": "code",
   "execution_count": null,
   "metadata": {},
   "outputs": [],
   "source": [
    "team_dict = {\n",
    "    '_id':0,\n",
    "    'team_name':'',\n",
    "    'type':'',\n",
    "    'manager_ID':0\n",
    "}\n",
    "player_dic = {\n",
    "    '_id':0,\n",
    "    'name':'',\n",
    "    'personal_info':{\n",
    "        'full_name':'',\n",
    "        'birthdate':'',\n",
    "        'nation': [],\n",
    "        'team_real':'',\n",
    "        'FC_role':''\n",
    "    }\n",
    "    'stats':{\n",
    "        \n",
    "    }\n",
    "}\n"
   ]
  }
 ],
 "metadata": {
  "kernelspec": {
   "display_name": "Python 3",
   "language": "python",
   "name": "python3"
  },
  "language_info": {
   "codemirror_mode": {
    "name": "ipython",
    "version": 3
   },
   "file_extension": ".py",
   "mimetype": "text/x-python",
   "name": "python",
   "nbconvert_exporter": "python",
   "pygments_lexer": "ipython3",
   "version": "3.7.1"
  }
 },
 "nbformat": 4,
 "nbformat_minor": 2
}
